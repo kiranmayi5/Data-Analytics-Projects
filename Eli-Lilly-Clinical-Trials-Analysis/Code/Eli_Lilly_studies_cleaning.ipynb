{
 "cells": [
  {
   "cell_type": "code",
   "execution_count": 6,
   "id": "939fe6fb",
   "metadata": {},
   "outputs": [
    {
     "name": "stderr",
     "output_type": "stream",
     "text": [
      "/var/folders/dz/d0n42s052ngg3fgsdssg1jcw0000gn/T/ipykernel_53825/2991093642.py:9: FutureWarning: DataFrame.applymap has been deprecated. Use DataFrame.map instead.\n",
      "  data = data.applymap(lambda x: x.strip() if isinstance(x, str) else x)\n"
     ]
    },
    {
     "name": "stdout",
     "output_type": "stream",
     "text": [
      "Data cleaning completed! Taiwan, Turkey, and Czech Republic issues fixed.\n"
     ]
    }
   ],
   "source": [
    "import pandas as pd\n",
    "import re\n",
    "from pycountry import countries\n",
    "\n",
    "# Step 1: Load the data\n",
    "data = pd.read_csv(\"raw_eli_lilly_studies.csv\")\n",
    "\n",
    "# Step 2: Clean data - Remove whitespace and drop duplicates\n",
    "data = data.applymap(lambda x: x.strip() if isinstance(x, str) else x)\n",
    "data = data.drop_duplicates()\n",
    "\n",
    "# Step 3: Split 'Locations' column using '|' as delimiter - long format\n",
    "locations_split = data['Locations'].str.split('|', expand=True)\n",
    "locations_long = locations_split.stack().reset_index(level=1, drop=True).rename('Location')\n",
    "data = data.drop(columns=['Locations']).join(locations_long)\n",
    "\n",
    "# Step 4: Extract Country (Fix Taiwan, Turkey, Czech Republic)\n",
    "country_list = [country.name for country in countries]\n",
    "\n",
    "def extract_country(location):\n",
    "    location = location.lower()\n",
    "    \n",
    "    # Fix specific country name issues\n",
    "    if \"taiwan\" in location:\n",
    "        return \"Taiwan\"\n",
    "    if \"turkey\" in location:\n",
    "        return \"Türkiye\"  # Change to \"Turkey\" if preferred\n",
    "    if \"czech republic\" in location:\n",
    "        return \"Czechia\"\n",
    "\n",
    "    # General country extraction\n",
    "    for country in country_list:\n",
    "        if country.lower() in location:\n",
    "            return country\n",
    "    return None\n",
    "\n",
    "data['Location'] = data['Location'].astype(str)\n",
    "data['Country'] = data['Location'].apply(extract_country)\n",
    "\n",
    "# Step 5: Extract State (without City)\n",
    "def extract_state(location):\n",
    "    if pd.isna(location):\n",
    "        return None\n",
    "    \n",
    "    # Remove special characters (like brackets)\n",
    "    location_cleaned = re.sub(r\"\\[.*?\\]|\\(.*?\\)\", \"\", location).strip()\n",
    "    \n",
    "    # Split by comma\n",
    "    parts = [part.strip() for part in location_cleaned.split(',')]\n",
    "    \n",
    "    # Identify country position\n",
    "    country = extract_country(location)\n",
    "    country_index = parts.index(country) if country in parts else len(parts)\n",
    "    \n",
    "    # Extract State (the part before the country)\n",
    "    if country_index >= 2:\n",
    "        return parts[country_index - 2]  # Extracting only the state\n",
    "    return None\n",
    "\n",
    "data['State'] = data['Location'].apply(extract_state)\n",
    "\n",
    "# Step 6: Drop duplicates properly\n",
    "data = data.drop_duplicates(subset=['NCT Number', 'Country', 'State'])\n",
    "\n",
    "# Save the cleaned dataset\n",
    "data.to_csv(\"cleaned_eli_lilly_studies.csv\", index=False)\n"
   ]
  },
  {
   "cell_type": "code",
   "execution_count": null,
   "id": "61e927a4",
   "metadata": {},
   "outputs": [],
   "source": []
  },
  {
   "cell_type": "code",
   "execution_count": null,
   "id": "4510e6ab",
   "metadata": {},
   "outputs": [],
   "source": []
  }
 ],
 "metadata": {
  "kernelspec": {
   "display_name": "Python 3 (ipykernel)",
   "language": "python",
   "name": "python3"
  },
  "language_info": {
   "codemirror_mode": {
    "name": "ipython",
    "version": 3
   },
   "file_extension": ".py",
   "mimetype": "text/x-python",
   "name": "python",
   "nbconvert_exporter": "python",
   "pygments_lexer": "ipython3",
   "version": "3.11.5"
  }
 },
 "nbformat": 4,
 "nbformat_minor": 5
}
